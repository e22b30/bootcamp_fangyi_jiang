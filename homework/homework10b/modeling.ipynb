{
 "cells": [
  {
   "cell_type": "markdown",
   "id": "238cb97a",
   "metadata": {},
   "source": [
    "# Homework Starter — Stage 10b: Time Series & Classification\n",
    "Fill in the TODOs. Use your own dataset or adapt the synthetic generator below."
   ]
  },
  {
   "cell_type": "code",
   "execution_count": 9,
   "id": "498bea51",
   "metadata": {},
   "outputs": [],
   "source": [
    "# Imports\n",
    "import numpy as np, pandas as pd\n",
    "import matplotlib.pyplot as plt\n",
    "import seaborn as sns\n",
    "from sklearn.pipeline import Pipeline, make_pipeline\n",
    "from sklearn.preprocessing import StandardScaler\n",
    "from sklearn.linear_model import LinearRegression, LogisticRegression\n",
    "from sklearn.tree import DecisionTreeClassifier\n",
    "from sklearn.metrics import mean_absolute_error, root_mean_squared_error, classification_report, confusion_matrix\n",
    "from sklearn.model_selection import train_test_split, TimeSeriesSplit\n",
    "np.random.seed(7); sns.set(); plt.rcParams['figure.figsize']=(9,4)"
   ]
  },
  {
   "cell_type": "markdown",
   "id": "96839eeb",
   "metadata": {},
   "source": [
    "## Option A: Use Your Own Data (Recommended)\n",
    "Load your data here (ensure a DateTime index for time series)."
   ]
  },
  {
   "cell_type": "code",
   "execution_count": 2,
   "id": "599045b6",
   "metadata": {},
   "outputs": [],
   "source": [
    "# TODO: load your data\n",
    "df = pd.read_csv (r\"C:\\Users\\fangyi\\bootcamp_fangyi_jiang\\project\\data\\Processed\\data_features.csv\")"
   ]
  },
  {
   "cell_type": "markdown",
   "id": "cf8c6e15",
   "metadata": {},
   "source": [
    "## Option B: Synthetic Generator (Use if you don't have data ready)"
   ]
  },
  {
   "cell_type": "code",
   "execution_count": null,
   "id": "298ce1f4",
   "metadata": {},
   "outputs": [],
   "source": [
    "# Synthetic series with regimes & jumps\n",
    "n=500\n",
    "dates=pd.bdate_range('2021-01-01', periods=n)\n",
    "mu = np.where(np.arange(n)<n//2, 0.0003, -0.0001)\n",
    "sigma = np.where(np.arange(n)<n//2, 0.01, 0.015)\n",
    "eps = np.random.normal(mu, sigma)\n",
    "jumps = np.zeros(n); jump_days = np.random.choice(np.arange(20,n-20), size=5, replace=False)\n",
    "jumps[jump_days] = np.random.normal(0,0.05,size=len(jump_days))\n",
    "rets = eps + jumps\n",
    "price = 100*np.exp(np.cumsum(rets))\n",
    "df = pd.DataFrame({'price':price}, index=dates)\n",
    "df['ret'] = df['price'].pct_change().fillna(0.0)\n",
    "df['log_ret'] = np.log1p(df['ret'])\n",
    "df.head()"
   ]
  },
  {
   "cell_type": "markdown",
   "id": "a7647218",
   "metadata": {},
   "source": [
    "## Feature Engineering"
   ]
  },
  {
   "cell_type": "code",
   "execution_count": 5,
   "id": "5e02391d",
   "metadata": {},
   "outputs": [
    {
     "data": {
      "text/html": [
       "<div>\n",
       "<style scoped>\n",
       "    .dataframe tbody tr th:only-of-type {\n",
       "        vertical-align: middle;\n",
       "    }\n",
       "\n",
       "    .dataframe tbody tr th {\n",
       "        vertical-align: top;\n",
       "    }\n",
       "\n",
       "    .dataframe thead th {\n",
       "        text-align: right;\n",
       "    }\n",
       "</style>\n",
       "<table border=\"1\" class=\"dataframe\">\n",
       "  <thead>\n",
       "    <tr style=\"text-align: right;\">\n",
       "      <th></th>\n",
       "      <th>date</th>\n",
       "      <th>close</th>\n",
       "      <th>daily return</th>\n",
       "      <th>moving average</th>\n",
       "      <th>lag_1</th>\n",
       "      <th>roll_mean_5</th>\n",
       "      <th>momentum</th>\n",
       "      <th>y_next_ret</th>\n",
       "      <th>y_up</th>\n",
       "      <th>return</th>\n",
       "    </tr>\n",
       "  </thead>\n",
       "  <tbody>\n",
       "    <tr>\n",
       "      <th>8</th>\n",
       "      <td>2025-04-11</td>\n",
       "      <td>198.15</td>\n",
       "      <td>0.040594</td>\n",
       "      <td>190.410000</td>\n",
       "      <td>-0.042394</td>\n",
       "      <td>-0.009709</td>\n",
       "      <td>0.037458</td>\n",
       "      <td>0.022054</td>\n",
       "      <td>1</td>\n",
       "      <td>0.040594</td>\n",
       "    </tr>\n",
       "    <tr>\n",
       "      <th>9</th>\n",
       "      <td>2025-04-14</td>\n",
       "      <td>202.52</td>\n",
       "      <td>0.022054</td>\n",
       "      <td>190.314286</td>\n",
       "      <td>0.040594</td>\n",
       "      <td>0.012987</td>\n",
       "      <td>0.114510</td>\n",
       "      <td>-0.001876</td>\n",
       "      <td>0</td>\n",
       "      <td>0.022054</td>\n",
       "    </tr>\n",
       "    <tr>\n",
       "      <th>10</th>\n",
       "      <td>2025-04-15</td>\n",
       "      <td>202.14</td>\n",
       "      <td>-0.001876</td>\n",
       "      <td>192.280000</td>\n",
       "      <td>0.022054</td>\n",
       "      <td>0.024745</td>\n",
       "      <td>0.071011</td>\n",
       "      <td>-0.038933</td>\n",
       "      <td>0</td>\n",
       "      <td>-0.001876</td>\n",
       "    </tr>\n",
       "    <tr>\n",
       "      <th>11</th>\n",
       "      <td>2025-04-16</td>\n",
       "      <td>194.27</td>\n",
       "      <td>-0.038933</td>\n",
       "      <td>194.110000</td>\n",
       "      <td>-0.001876</td>\n",
       "      <td>0.034333</td>\n",
       "      <td>-0.002199</td>\n",
       "      <td>0.013950</td>\n",
       "      <td>1</td>\n",
       "      <td>-0.038933</td>\n",
       "    </tr>\n",
       "    <tr>\n",
       "      <th>12</th>\n",
       "      <td>2025-04-17</td>\n",
       "      <td>196.98</td>\n",
       "      <td>0.013950</td>\n",
       "      <td>197.618571</td>\n",
       "      <td>-0.038933</td>\n",
       "      <td>-0.004111</td>\n",
       "      <td>0.063768</td>\n",
       "      <td>-0.019393</td>\n",
       "      <td>0</td>\n",
       "      <td>0.013950</td>\n",
       "    </tr>\n",
       "  </tbody>\n",
       "</table>\n",
       "</div>"
      ],
      "text/plain": [
       "          date   close  daily return  moving average     lag_1  roll_mean_5  \\\n",
       "8   2025-04-11  198.15      0.040594      190.410000 -0.042394    -0.009709   \n",
       "9   2025-04-14  202.52      0.022054      190.314286  0.040594     0.012987   \n",
       "10  2025-04-15  202.14     -0.001876      192.280000  0.022054     0.024745   \n",
       "11  2025-04-16  194.27     -0.038933      194.110000 -0.001876     0.034333   \n",
       "12  2025-04-17  196.98      0.013950      197.618571 -0.038933    -0.004111   \n",
       "\n",
       "    momentum  y_next_ret  y_up    return  \n",
       "8   0.037458    0.022054     1  0.040594  \n",
       "9   0.114510   -0.001876     0  0.022054  \n",
       "10  0.071011   -0.038933     0 -0.001876  \n",
       "11 -0.002199    0.013950     1 -0.038933  \n",
       "12  0.063768   -0.019393     0  0.013950  "
      ]
     },
     "execution_count": 5,
     "metadata": {},
     "output_type": "execute_result"
    }
   ],
   "source": [
    "# TODO: create at least two features\n",
    "df['return'] = (df['close'] - df['close'].shift(1))/df['close'].shift(1)\n",
    "df['lag_1'] = df['return'].shift(1)\n",
    "df['roll_mean_5'] = df['return'].rolling(5).mean().shift(1) # the moving average is a 3 day moving average for close price, this one is a 5 day for return\n",
    "# Add your own:\n",
    "df['momentum'] = df['return'] - df['return'].shift(7)\n",
    "df['y_next_ret'] = df['return'].shift(-1)\n",
    "df['y_up'] = (df['y_next_ret']>0).astype(int)\n",
    "df_feat = df.dropna().copy()\n",
    "df_feat.head()"
   ]
  },
  {
   "cell_type": "markdown",
   "id": "f84b72ea",
   "metadata": {},
   "source": [
    "## Split"
   ]
  },
  {
   "cell_type": "code",
   "execution_count": null,
   "id": "2bccac3c",
   "metadata": {},
   "outputs": [],
   "source": [
    "# Time-aware split\n",
    "cut=int(len(df_feat)*0.8)\n",
    "train, test = df_feat.iloc[:cut], df_feat.iloc[cut:]\n",
    "features=['lag_1','roll_mean_5','momentum']  # extend as you add features\n",
    "X_tr, X_te = train[features], test[features]\n",
    "y_tr_reg, y_te_reg = train['y_next_ret'], test['y_next_ret']\n",
    "y_tr_clf, y_te_clf = train['y_up'], test['y_up']"
   ]
  },
  {
   "cell_type": "markdown",
   "id": "c2ac8fdb",
   "metadata": {},
   "source": [
    "## Pipeline + Model (Choose one track below)"
   ]
  },
  {
   "cell_type": "code",
   "execution_count": 10,
   "id": "e15dec2f",
   "metadata": {},
   "outputs": [
    {
     "name": "stdout",
     "output_type": "stream",
     "text": [
      "RMSE: 0.01906070975187902\n"
     ]
    }
   ],
   "source": [
    "# Track 1: Forecasting returns\n",
    "reg = Pipeline([('scaler', StandardScaler()), ('linreg', LinearRegression())])\n",
    "reg.fit(X_tr, y_tr_reg)\n",
    "pred = reg.predict(X_te)\n",
    "rmse = root_mean_squared_error(y_te_reg, pred)\n",
    "print('RMSE:', rmse)"
   ]
  },
  {
   "cell_type": "code",
   "execution_count": 7,
   "id": "99d0d2a9",
   "metadata": {},
   "outputs": [
    {
     "name": "stdout",
     "output_type": "stream",
     "text": [
      "              precision    recall  f1-score   support\n",
      "\n",
      "           0       0.50      0.17      0.25        12\n",
      "           1       0.33      0.71      0.45         7\n",
      "\n",
      "    accuracy                           0.37        19\n",
      "   macro avg       0.42      0.44      0.35        19\n",
      "weighted avg       0.44      0.37      0.33        19\n",
      "\n"
     ]
    },
    {
     "data": {
      "image/png": "[encoded data removed]",
      "text/plain": [
       "<Figure size 900x400 with 2 Axes>"
      ]
     },
     "metadata": {},
     "output_type": "display_data"
    }
   ],
   "source": [
    "# Track 2: Classification (up/down)\n",
    "clf = Pipeline([('scaler', StandardScaler()), ('logit', LogisticRegression(max_iter=1000))])\n",
    "clf.fit(X_tr, y_tr_clf)\n",
    "predc = clf.predict(X_te)\n",
    "print(classification_report(y_te_clf, predc))\n",
    "cm = confusion_matrix(y_te_clf, predc)\n",
    "sns.heatmap(cm, annot=True, fmt='d'); plt.title('Confusion Matrix'); plt.show()"
   ]
  },
  {
   "cell_type": "markdown",
   "id": "f85f3faf",
   "metadata": {},
   "source": [
    "## Interpretation (Markdown)\n",
    "- What worked: I am doing a regresion analysis based on stock price and time information, it is not going to work well. There is only a 37% accuracy in predicting whether the stock price will go up or down.\n",
    "- Where might assumptions fail: The base assumption that autocorrelation can explain most of stock price movement\n",
    "- How would you extend features or model: I would at least include features like market return and industry specific return."
   ]
  },
  {
   "cell_type": "markdown",
   "id": "4db9b64f",
   "metadata": {},
   "source": [
    "### Save Notebook\n",
    "Remember to save as `notebooks/modeling_<team>.ipynb`."
   ]
  }
 ],
 "metadata": {
  "kernelspec": {
   "display_name": "fe-course",
   "language": "python",
   "name": "python3"
  },
  "language_info": {
   "codemirror_mode": {
    "name": "ipython",
    "version": 3
   },
   "file_extension": ".py",
   "mimetype": "text/x-python",
   "name": "python",
   "nbconvert_exporter": "python",
   "pygments_lexer": "ipython3",
   "version": "3.11.13"
  }
 },
 "nbformat": 4,
 "nbformat_minor": 5
}
