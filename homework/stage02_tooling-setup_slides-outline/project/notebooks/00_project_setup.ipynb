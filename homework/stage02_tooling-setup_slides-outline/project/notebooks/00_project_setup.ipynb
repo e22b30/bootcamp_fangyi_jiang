{
 "cells": [
  {
   "cell_type": "markdown",
   "metadata": {},
   "source": [
    "Environment & Config Check"
   ]
  },
  {
   "cell_type": "code",
   "execution_count": 7,
   "metadata": {},
   "outputs": [
    {
     "name": "stdout",
     "output_type": "stream",
     "text": [
      "API_KEY present: True\n",
      "a: [1 2 3]\n",
      "b: [4 5 6]\n",
      "a + b = [5 7 9]\n"
     ]
    }
   ],
   "source": [
    "import os, sys, pathlib\n",
    "root = pathlib.Path.cwd().parent\n",
    "sys.path.append(str(root))\n",
    "from src.config import load_env, get_key\n",
    "\n",
    "# load_dotenv\n",
    "load_env()\n",
    "# print if api key exist\n",
    "api_key_present = get_key(\"API_KEY\") is not None\n",
    "print(\"API_KEY present:\", api_key_present)\n",
    "\n",
    "# array op\n",
    "import numpy as np\n",
    "a = np.array([1, 2, 3])\n",
    "b = np.array([4, 5, 6])\n",
    "c = a + b\n",
    "\n",
    "print(\"a:\", a)\n",
    "print(\"b:\", b)\n",
    "print(\"a + b =\", c)\n",
    "\n"
   ]
  },
  {
   "cell_type": "code",
   "execution_count": null,
   "metadata": {},
   "outputs": [],
   "source": []
  }
 ],
 "metadata": {
  "kernelspec": {
   "display_name": "fe-course",
   "language": "python",
   "name": "python3"
  },
  "language_info": {
   "codemirror_mode": {
    "name": "ipython",
    "version": 3
   },
   "file_extension": ".py",
   "mimetype": "text/x-python",
   "name": "python",
   "nbconvert_exporter": "python",
   "pygments_lexer": "ipython3",
   "version": "3.11.13"
  }
 },
 "nbformat": 4,
 "nbformat_minor": 2
}
