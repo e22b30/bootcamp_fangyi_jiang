{
 "cells": [
  {
   "cell_type": "code",
   "execution_count": 7,
   "id": "4a097b86",
   "metadata": {},
   "outputs": [
    {
     "name": "stdout",
     "output_type": "stream",
     "text": [
      "a + b + [5 7 9]\n",
      "<class 'pandas.core.frame.DataFrame'>\n",
      "RangeIndex: 10 entries, 0 to 9\n",
      "Data columns (total 3 columns):\n",
      " #   Column    Non-Null Count  Dtype \n",
      "---  ------    --------------  ----- \n",
      " 0   category  10 non-null     object\n",
      " 1   value     10 non-null     int64 \n",
      " 2   date      10 non-null     object\n",
      "dtypes: int64(1), object(2)\n",
      "memory usage: 372.0+ bytes\n",
      "           value\n",
      "count  10.000000\n",
      "mean   17.600000\n",
      "std     7.381659\n",
      "min    10.000000\n",
      "25%    12.250000\n",
      "50%    14.500000\n",
      "75%    23.250000\n",
      "max    30.000000\n",
      "  category      value\n",
      "0        A  11.500000\n",
      "1        B  15.666667\n",
      "2        C  27.666667\n"
     ]
    },
    {
     "data": {
      "image/png": "[encoded data removed]",
      "text/plain": [
       "<Figure size 600x400 with 1 Axes>"
      ]
     },
     "metadata": {},
     "output_type": "display_data"
    }
   ],
   "source": [
    "import pandas as pd\n",
    "import numpy as np\n",
    "import sys, pathlib\n",
    "\n",
    "# Add project root to Python path\n",
    "sys.path.append(str(pathlib.Path.cwd().parent))\n",
    "\n",
    "# Array example\n",
    "a = np.array([1, 2, 3])\n",
    "b = np.array([4, 5, 6])\n",
    "\n",
    "print (\"a + b +\", a+b)\n",
    "# Vectorized results\n",
    "c_vec = a+b\n",
    "# Loop results\n",
    "c_loop = []\n",
    "for i in range(len(a)):\n",
    "    c_loop.append(a[i]+b[i])\n",
    "# loading the dataset\n",
    "df = pd.read_csv(\"../data/starter_data.csv\")\n",
    "df.info()\n",
    "df.head()\n",
    "\n",
    "# Summary statistics\n",
    "summary = df.describe()\n",
    "print(summary)\n",
    "grouped = df.groupby('category').mean(numeric_only=True).reset_index()\n",
    "print(grouped)\n",
    "\n",
    "# Saving summary stats\n",
    "summary.to_csv(\"../data/processed/summary.csv\", index=True)\n",
    "\n",
    "# Create bar chart for summary statistics \"grouped\"\n",
    "import matplotlib.pyplot as plt\n",
    "grouped.plot(x = \"category\", y = \"value\", kind=\"bar\", figsize=(6,4), legend = False)\n",
    "plt.title(\"Value Distribution\")\n",
    "plt.xlabel(\"category\")\n",
    "plt.ylabel(\"mean value\")\n",
    "plt.savefig(\"../data/processed/value_dist.png\")\n",
    "plt.show()\n",
    "plt.close()\n",
    "\n",
    "# Utility function to generate summary statistics\n",
    "from src.utils import get_summary_stats\n",
    "summary, grouped = get_summary_stats(df)"
   ]
  },
  {
   "cell_type": "code",
   "execution_count": null,
   "id": "2efe339f",
   "metadata": {},
   "outputs": [],
   "source": []
  }
 ],
 "metadata": {
  "kernelspec": {
   "display_name": "fe-course",
   "language": "python",
   "name": "python3"
  },
  "language_info": {
   "codemirror_mode": {
    "name": "ipython",
    "version": 3
   },
   "file_extension": ".py",
   "mimetype": "text/x-python",
   "name": "python",
   "nbconvert_exporter": "python",
   "pygments_lexer": "ipython3",
   "version": "3.11.13"
  }
 },
 "nbformat": 4,
 "nbformat_minor": 5
}
