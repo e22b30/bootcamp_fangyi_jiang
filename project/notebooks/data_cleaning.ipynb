{
 "cells": [
  {
   "cell_type": "code",
   "execution_count": 1,
   "id": "377ba23b",
   "metadata": {},
   "outputs": [
    {
     "name": "stdout",
     "output_type": "stream",
     "text": [
      "C:\\Users\\fangyi\\bootcamp_fangyi_jiang\\project\\data\\Raw\\api_source-alpha_symbol-AAPL_20250824-155558.csv\n"
     ]
    }
   ],
   "source": [
    "import pandas as pd\n",
    "import sys\n",
    "import os\n",
    "sys.path.append(os.path.abspath(\"..\"))\n",
    "from src.cleaning import drop_duplicate, fill_missing_with_mean\n",
    "\n",
    "from dotenv import load_dotenv\n",
    "load_dotenv()\n",
    "DATA_RAW = os.getenv(\"RAW_DATA\")\n",
    "print(os.getenv(\"RAW_DATA\"))\n",
    "\n",
    "df = pd.read_csv(DATA_RAW)\n",
    "\n",
    "df = drop_duplicate(df)\n",
    "df = fill_missing_with_mean(df, 'close')\n",
    "\n",
    "df.to_csv('../data/processed/data_cleaned.csv', index=False)"
   ]
  },
  {
   "cell_type": "markdown",
   "id": "c51850b2",
   "metadata": {},
   "source": [
    "Assumption made:\n",
    "\n",
    "There is autocorrelation with the stock price in terms of date. So we use the mean of the previous date's stock price and the next date's stock price to fill the missing data"
   ]
  }
 ],
 "metadata": {
  "kernelspec": {
   "display_name": "fe-course",
   "language": "python",
   "name": "python3"
  },
  "language_info": {
   "codemirror_mode": {
    "name": "ipython",
    "version": 3
   },
   "file_extension": ".py",
   "mimetype": "text/x-python",
   "name": "python",
   "nbconvert_exporter": "python",
   "pygments_lexer": "ipython3",
   "version": "3.11.13"
  }
 },
 "nbformat": 4,
 "nbformat_minor": 5
}
