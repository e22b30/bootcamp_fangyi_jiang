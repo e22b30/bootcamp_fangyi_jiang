{
 "cells": [
  {
   "cell_type": "code",
   "execution_count": null,
   "id": "3e9e8360",
   "metadata": {},
   "outputs": [],
   "source": [
    "import pandas as pd\n",
    "import numpy as np\n",
    "import sys, pathlib\n",
    "\n",
    "# Add project root to Python path\n",
    "sys.path.append(str(pathlib.Path.cwd().parent))\n",
    "\n",
    "# Array example\n",
    "a = np.array([1, 2, 3])\n",
    "b = np.array([4, 5, 6])\n",
    "\n",
    "print (\"a + b +\", a+b)\n",
    "# Vectorized results\n",
    "c_vec = a+b\n",
    "# Loop results\n",
    "c_loop = []\n",
    "for i in range(len(a)):\n",
    "    c_loop.append(a[i]+b[i])\n",
    "# loading the dataset\n",
    "df = pd.read_csv(\"../data/starter_data.csv\")\n",
    "df.info()\n",
    "df.head()\n",
    "\n",
    "# Summary statistics\n",
    "summary = df.describe()\n",
    "print(summary)\n",
    "grouped = df.groupby('category').mean(numeric_only=True).reset_index()\n",
    "print(grouped)\n",
    "\n",
    "# Saving summary stats\n",
    "summary.to_csv(\"../data/processed/summary.csv\", index=True)\n",
    "\n",
    "# Create bar chart for summary statistics \"grouped\"\n",
    "import matplotlib.pyplot as plt\n",
    "grouped.plot(x = \"category\", y = \"value\", kind=\"bar\", figsize=(6,4), legend = False)\n",
    "plt.title(\"Value Distribution\")\n",
    "plt.xlabel(\"category\")\n",
    "plt.ylabel(\"mean value\")\n",
    "plt.savefig(\"../data/processed/value_dist.png\")\n",
    "plt.show()\n",
    "plt.close()\n",
    "\n",
    "# Utility function to generate summary statistics\n",
    "from src.utils import get_summary_stats\n",
    "summary, grouped = get_summary_stats(df)"
   ]
  }
 ],
 "metadata": {
  "kernelspec": {
   "display_name": "fe-course",
   "language": "python",
   "name": "python3"
  },
  "language_info": {
   "name": "python",
   "version": "3.11.13"
  }
 },
 "nbformat": 4,
 "nbformat_minor": 5
}
