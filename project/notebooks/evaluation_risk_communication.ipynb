{
 "cells": [
  {
   "cell_type": "code",
   "execution_count": 36,
   "id": "d8608376",
   "metadata": {},
   "outputs": [],
   "source": [
    "import numpy as np, sys, os\n",
    "import pandas as pd\n",
    "import matplotlib.pyplot as plt\n",
    "import seaborn as sns\n",
    "from sklearn.pipeline import Pipeline, make_pipeline\n",
    "from sklearn.preprocessing import StandardScaler\n",
    "from sklearn.tree import DecisionTreeClassifier\n",
    "from sklearn.linear_model import LinearRegression, LogisticRegression\n",
    "from sklearn.metrics import r2_score, root_mean_squared_error, mean_absolute_error, classification_report, confusion_matrix\n",
    "from sklearn.model_selection import train_test_split, TimeSeriesSplit\n",
    "\n",
    "sys.path.append(os.path.abspath(\"..\"))\n",
    "from src.evaluation import mean_impute, median_impute, SimpleLinReg, fit_fn"
   ]
  },
  {
   "cell_type": "code",
   "execution_count": 37,
   "id": "7b14e649",
   "metadata": {},
   "outputs": [],
   "source": [
    "df = pd.read_csv (r\"C:\\Users\\fangyi\\bootcamp_fangyi_jiang\\project\\data\\Processed\\data_features.csv\")"
   ]
  },
  {
   "cell_type": "code",
   "execution_count": 38,
   "id": "a90b9ae1",
   "metadata": {},
   "outputs": [],
   "source": [
    "## Feature Engineering\n",
    "df['return'] = (df['close'] - df['close'].shift(1))/df['close'].shift(1)\n",
    "df['lag_1'] = df['return'].shift(1)\n",
    "df['roll_mean_5'] = df['return'].rolling(5).mean().shift(1)\n",
    "df['momentum'] = df['return'] - df['return'].shift(7)\n",
    "df['y_next_ret'] = df['return'].shift(-1)\n",
    "df['y_up'] = (df['y_next_ret']>0).astype(int)\n",
    "df_feat = df.dropna().copy()"
   ]
  },
  {
   "cell_type": "code",
   "execution_count": 39,
   "id": "15168a1e",
   "metadata": {},
   "outputs": [
    {
     "data": {
      "text/html": [
       "<div>\n",
       "<style scoped>\n",
       "    .dataframe tbody tr th:only-of-type {\n",
       "        vertical-align: middle;\n",
       "    }\n",
       "\n",
       "    .dataframe tbody tr th {\n",
       "        vertical-align: top;\n",
       "    }\n",
       "\n",
       "    .dataframe thead th {\n",
       "        text-align: right;\n",
       "    }\n",
       "</style>\n",
       "<table border=\"1\" class=\"dataframe\">\n",
       "  <thead>\n",
       "    <tr style=\"text-align: right;\">\n",
       "      <th></th>\n",
       "      <th>lag_1</th>\n",
       "      <th>roll_mean_5</th>\n",
       "      <th>momentum</th>\n",
       "    </tr>\n",
       "  </thead>\n",
       "  <tbody>\n",
       "    <tr>\n",
       "      <th>80</th>\n",
       "      <td>0.000561</td>\n",
       "      <td>0.002553</td>\n",
       "      <td>0.001461</td>\n",
       "    </tr>\n",
       "    <tr>\n",
       "      <th>81</th>\n",
       "      <td>0.000795</td>\n",
       "      <td>0.001481</td>\n",
       "      <td>-0.018511</td>\n",
       "    </tr>\n",
       "    <tr>\n",
       "      <th>82</th>\n",
       "      <td>-0.012988</td>\n",
       "      <td>-0.002924</td>\n",
       "      <td>-0.016664</td>\n",
       "    </tr>\n",
       "    <tr>\n",
       "      <th>83</th>\n",
       "      <td>-0.010508</td>\n",
       "      <td>-0.004792</td>\n",
       "      <td>-0.016116</td>\n",
       "    </tr>\n",
       "    <tr>\n",
       "      <th>84</th>\n",
       "      <td>-0.007080</td>\n",
       "      <td>-0.005844</td>\n",
       "      <td>-0.023838</td>\n",
       "    </tr>\n",
       "    <tr>\n",
       "      <th>85</th>\n",
       "      <td>-0.025004</td>\n",
       "      <td>-0.010957</td>\n",
       "      <td>0.006614</td>\n",
       "    </tr>\n",
       "    <tr>\n",
       "      <th>86</th>\n",
       "      <td>0.004793</td>\n",
       "      <td>-0.010157</td>\n",
       "      <td>-0.002676</td>\n",
       "    </tr>\n",
       "    <tr>\n",
       "      <th>87</th>\n",
       "      <td>-0.002115</td>\n",
       "      <td>-0.007983</td>\n",
       "      <td>0.050112</td>\n",
       "    </tr>\n",
       "    <tr>\n",
       "      <th>88</th>\n",
       "      <td>0.050907</td>\n",
       "      <td>0.004300</td>\n",
       "      <td>0.044781</td>\n",
       "    </tr>\n",
       "    <tr>\n",
       "      <th>89</th>\n",
       "      <td>0.031794</td>\n",
       "      <td>0.012075</td>\n",
       "      <td>0.052866</td>\n",
       "    </tr>\n",
       "    <tr>\n",
       "      <th>90</th>\n",
       "      <td>0.042358</td>\n",
       "      <td>0.025547</td>\n",
       "      <td>-0.002382</td>\n",
       "    </tr>\n",
       "    <tr>\n",
       "      <th>91</th>\n",
       "      <td>-0.009462</td>\n",
       "      <td>0.022696</td>\n",
       "      <td>0.035876</td>\n",
       "    </tr>\n",
       "    <tr>\n",
       "      <th>92</th>\n",
       "      <td>0.010872</td>\n",
       "      <td>0.025294</td>\n",
       "      <td>0.011231</td>\n",
       "    </tr>\n",
       "    <tr>\n",
       "      <th>93</th>\n",
       "      <td>0.016024</td>\n",
       "      <td>0.018317</td>\n",
       "      <td>-0.000243</td>\n",
       "    </tr>\n",
       "    <tr>\n",
       "      <th>94</th>\n",
       "      <td>-0.002357</td>\n",
       "      <td>0.011487</td>\n",
       "      <td>-0.056019</td>\n",
       "    </tr>\n",
       "    <tr>\n",
       "      <th>95</th>\n",
       "      <td>-0.005112</td>\n",
       "      <td>0.001993</td>\n",
       "      <td>-0.034816</td>\n",
       "    </tr>\n",
       "    <tr>\n",
       "      <th>96</th>\n",
       "      <td>-0.003023</td>\n",
       "      <td>0.003281</td>\n",
       "      <td>-0.043787</td>\n",
       "    </tr>\n",
       "    <tr>\n",
       "      <th>97</th>\n",
       "      <td>-0.001429</td>\n",
       "      <td>0.000821</td>\n",
       "      <td>-0.010273</td>\n",
       "    </tr>\n",
       "    <tr>\n",
       "      <th>98</th>\n",
       "      <td>-0.019735</td>\n",
       "      <td>-0.006331</td>\n",
       "      <td>-0.015784</td>\n",
       "    </tr>\n",
       "  </tbody>\n",
       "</table>\n",
       "</div>"
      ],
      "text/plain": [
       "       lag_1  roll_mean_5  momentum\n",
       "80  0.000561     0.002553  0.001461\n",
       "81  0.000795     0.001481 -0.018511\n",
       "82 -0.012988    -0.002924 -0.016664\n",
       "83 -0.010508    -0.004792 -0.016116\n",
       "84 -0.007080    -0.005844 -0.023838\n",
       "85 -0.025004    -0.010957  0.006614\n",
       "86  0.004793    -0.010157 -0.002676\n",
       "87 -0.002115    -0.007983  0.050112\n",
       "88  0.050907     0.004300  0.044781\n",
       "89  0.031794     0.012075  0.052866\n",
       "90  0.042358     0.025547 -0.002382\n",
       "91 -0.009462     0.022696  0.035876\n",
       "92  0.010872     0.025294  0.011231\n",
       "93  0.016024     0.018317 -0.000243\n",
       "94 -0.002357     0.011487 -0.056019\n",
       "95 -0.005112     0.001993 -0.034816\n",
       "96 -0.003023     0.003281 -0.043787\n",
       "97 -0.001429     0.000821 -0.010273\n",
       "98 -0.019735    -0.006331 -0.015784"
      ]
     },
     "execution_count": 39,
     "metadata": {},
     "output_type": "execute_result"
    }
   ],
   "source": [
    "## Split\n",
    "cut=int(len(df_feat)*0.8)\n",
    "train, test = df_feat.iloc[:cut], df_feat.iloc[cut:]\n",
    "features=['lag_1','roll_mean_5','momentum'] \n",
    "X_tr, X_te = train[features], test[features]\n",
    "y_tr_reg, y_te_reg = train['y_next_ret'], test['y_next_ret']\n",
    "X_te"
   ]
  },
  {
   "cell_type": "code",
   "execution_count": 40,
   "id": "8adfa6a2",
   "metadata": {},
   "outputs": [
    {
     "data": {
      "text/plain": [
       "0.018553881942588488"
      ]
     },
     "execution_count": 40,
     "metadata": {},
     "output_type": "execute_result"
    }
   ],
   "source": [
    "## I only did a classification so I am doing a regression now\n",
    "X_raw = X_te['lag_1'].values\n",
    "y = y_te_reg.values\n",
    "X_base = mean_impute(X_raw)\n",
    "model = fit_fn(X_base.reshape(-1,1), y)\n",
    "y_hat = model.predict(X_base.reshape(-1,1))\n",
    "base_rmse = root_mean_squared_error(y, y_hat)\n",
    "base_rmse"
   ]
  },
  {
   "cell_type": "code",
   "execution_count": 41,
   "id": "c26db726",
   "metadata": {},
   "outputs": [
    {
     "data": {
      "image/png": "[encoded data removed]",
      "text/plain": [
       "<Figure size 640x480 with 1 Axes>"
      ]
     },
     "metadata": {},
     "output_type": "display_data"
    }
   ],
   "source": [
    "## Confidence Intervals\n",
    "resid = y - y_hat\n",
    "sigma_hat = np.std(resid, ddof=1)\n",
    "n = len(y)\n",
    "se_mean = sigma_hat/np.sqrt(n)\n",
    "x_grid = np.linspace(np.nanmin(X_base), np.nanmax(X_base), 120).reshape(-1,1)\n",
    "pred_line = model.predict(x_grid)\n",
    "gauss_lo = pred_line - 1.96*se_mean\n",
    "gauss_hi = pred_line + 1.96*se_mean\n",
    "\n",
    "def bootstrap_predictions(X, y, x_grid, n_boot=500, seed=111):\n",
    "    rng = np.random.default_rng(seed)\n",
    "    preds = []\n",
    "    idx = np.arange(len(y))\n",
    "    for _ in range(n_boot):\n",
    "        b = rng.choice(idx, size=len(idx), replace=True)\n",
    "        m = fit_fn(X[b].reshape(-1,1), y[b])\n",
    "        preds.append(m.predict(x_grid))\n",
    "    P = np.vstack(preds)\n",
    "    return P.mean(axis=0), np.percentile(P, 2.5, axis=0), np.percentile(P, 97.5, axis=0)\n",
    "\n",
    "m_boot, lo_boot, hi_boot = bootstrap_predictions(X_base, y, x_grid, n_boot=600)\n",
    "\n",
    "plt.figure()\n",
    "plt.scatter(X_base, y, alpha=0.25)\n",
    "plt.plot(x_grid, pred_line, label='prediction')\n",
    "plt.fill_between(x_grid.ravel(), gauss_lo, gauss_hi, alpha=0.25, label='Gaussian CI')\n",
    "plt.fill_between(x_grid.ravel(), lo_boot, hi_boot, alpha=0.25, label='Bootstrap CI')\n",
    "plt.legend(); plt.title('Parametric vs Bootstrap CI'); plt.show()"
   ]
  },
  {
   "cell_type": "code",
   "execution_count": null,
   "id": "0b42a288",
   "metadata": {},
   "outputs": [
    {
     "data": {
      "text/html": [
       "<div>\n",
       "<style scoped>\n",
       "    .dataframe tbody tr th:only-of-type {\n",
       "        vertical-align: middle;\n",
       "    }\n",
       "\n",
       "    .dataframe tbody tr th {\n",
       "        vertical-align: top;\n",
       "    }\n",
       "\n",
       "    .dataframe thead th {\n",
       "        text-align: right;\n",
       "    }\n",
       "</style>\n",
       "<table border=\"1\" class=\"dataframe\">\n",
       "  <thead>\n",
       "    <tr style=\"text-align: right;\">\n",
       "      <th></th>\n",
       "      <th>scenario</th>\n",
       "      <th>rmse</th>\n",
       "      <th>slope</th>\n",
       "      <th>intercept</th>\n",
       "    </tr>\n",
       "  </thead>\n",
       "  <tbody>\n",
       "    <tr>\n",
       "      <th>0</th>\n",
       "      <td>mean_impute</td>\n",
       "      <td>0.018554</td>\n",
       "      <td>0.312585</td>\n",
       "      <td>0.002485</td>\n",
       "    </tr>\n",
       "    <tr>\n",
       "      <th>1</th>\n",
       "      <td>median_impute</td>\n",
       "      <td>0.018554</td>\n",
       "      <td>0.312585</td>\n",
       "      <td>0.002485</td>\n",
       "    </tr>\n",
       "  </tbody>\n",
       "</table>\n",
       "</div>"
      ],
      "text/plain": [
       "        scenario      rmse     slope  intercept\n",
       "0    mean_impute  0.018554  0.312585   0.002485\n",
       "1  median_impute  0.018554  0.312585   0.002485"
      ]
     },
     "execution_count": 42,
     "metadata": {},
     "output_type": "execute_result"
    }
   ],
   "source": [
    "## Senario Analysis\n",
    "scenarios = {\n",
    "    'mean_impute': mean_impute,\n",
    "    'median_impute': median_impute,\n",
    "}\n",
    "results = []\n",
    "for name, fn in scenarios.items():\n",
    "    Xs = fn(X_raw)\n",
    "    m = fit_fn(Xs.reshape(-1,1), y)\n",
    "    yh = m.predict(Xs.reshape(-1,1))\n",
    "    results.append({'scenario': name, 'rmse': root_mean_squared_error(y[:len(yh)], yh), 'slope': m.coef_[0], 'intercept': m.intercept_})\n",
    "sens = pd.DataFrame(results); sens"
   ]
  },
  {
   "cell_type": "code",
   "execution_count": 48,
   "id": "7b2f3cb8",
   "metadata": {},
   "outputs": [
    {
     "data": {
      "text/html": [
       "<div>\n",
       "<style scoped>\n",
       "    .dataframe tbody tr th:only-of-type {\n",
       "        vertical-align: middle;\n",
       "    }\n",
       "\n",
       "    .dataframe tbody tr th {\n",
       "        vertical-align: top;\n",
       "    }\n",
       "\n",
       "    .dataframe thead th {\n",
       "        text-align: right;\n",
       "    }\n",
       "</style>\n",
       "<table border=\"1\" class=\"dataframe\">\n",
       "  <thead>\n",
       "    <tr style=\"text-align: right;\">\n",
       "      <th></th>\n",
       "      <th>scenario</th>\n",
       "      <th>rmse</th>\n",
       "      <th>slope</th>\n",
       "      <th>intercept</th>\n",
       "    </tr>\n",
       "  </thead>\n",
       "  <tbody>\n",
       "    <tr>\n",
       "      <th>0</th>\n",
       "      <td>drop_missing</td>\n",
       "      <td>0.018554</td>\n",
       "      <td>0.312585</td>\n",
       "      <td>0.002485</td>\n",
       "    </tr>\n",
       "  </tbody>\n",
       "</table>\n",
       "</div>"
      ],
      "text/plain": [
       "       scenario      rmse     slope  intercept\n",
       "0  drop_missing  0.018554  0.312585   0.002485"
      ]
     },
     "execution_count": 48,
     "metadata": {},
     "output_type": "execute_result"
    }
   ],
   "source": [
    "## Alternative Senario for project stage 12\n",
    "scenarios = {\n",
    "    'drop_missing': lambda a: a[~np.isnan(a)] if np.isnan(a).any() else a\n",
    "}\n",
    "\n",
    "results = []\n",
    "for name, fn in scenarios.items():\n",
    "    mask = ~np.isnan(X_raw)\n",
    "    Xs, ys = X_raw[mask], y[mask]\n",
    "    m = fit_fn(Xs.reshape(-1,1), ys)\n",
    "    yh = m.predict(Xs.reshape(-1,1))\n",
    "    results.append({'scenario': name, 'rmse': root_mean_squared_error(y[:len(yh)], yh), 'slope': m.coef_[0], 'intercept': m.intercept_})\n",
    "sens = pd.DataFrame(results); \n",
    "sens"
   ]
  },
  {
   "cell_type": "code",
   "execution_count": 43,
   "id": "d353e79a",
   "metadata": {},
   "outputs": [
    {
     "data": {
      "image/png": "[encoded data removed]",
      "text/plain": [
       "<Figure size 640x480 with 1 Axes>"
      ]
     },
     "metadata": {},
     "output_type": "display_data"
    }
   ],
   "source": [
    "## Residual Patterns\n",
    "residuals = y_te_reg - pred\n",
    "plt.boxplot(residuals)\n",
    "plt.title('Residuals')\n",
    "plt.show()"
   ]
  },
  {
   "cell_type": "code",
   "execution_count": 44,
   "id": "aaffd77f",
   "metadata": {},
   "outputs": [],
   "source": [
    "## The key assumption is that we can predict stock price because the daily close price of a stock is normally distibuted and iid (which is totally wrong)\n",
    "## Risks include hetroskadicity, size of the data (I think I only pulled about 100 days from the web and then they are split into training and testing data). Also, linear regression may not be able to fit stock price behavior well (it definately will not fit well)\n",
    "## From the confidence intervals we can see that in some cases they overlap where in other cases they differ a lot. This is probably due to the small sample size leading to each bootstrap varying greatly in terms of CI.\n",
    "## From the senario analysis we can see that, well I already dealt with missing data so it actually did nothing. we can't observe anything from missing data."
   ]
  }
 ],
 "metadata": {
  "kernelspec": {
   "display_name": "fe-course",
   "language": "python",
   "name": "python3"
  },
  "language_info": {
   "codemirror_mode": {
    "name": "ipython",
    "version": 3
   },
   "file_extension": ".py",
   "mimetype": "text/x-python",
   "name": "python",
   "nbconvert_exporter": "python",
   "pygments_lexer": "ipython3",
   "version": "3.11.13"
  }
 },
 "nbformat": 4,
 "nbformat_minor": 5
}
