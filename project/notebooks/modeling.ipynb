{
 "cells": [
  {
   "cell_type": "code",
   "execution_count": 1,
   "id": "71f108cb",
   "metadata": {},
   "outputs": [],
   "source": [
    "import numpy as np\n",
    "import pandas as pd\n",
    "import matplotlib.pyplot as plt\n",
    "import seaborn as sns\n",
    "from sklearn.pipeline import Pipeline, make_pipeline\n",
    "from sklearn.preprocessing import StandardScaler\n",
    "from sklearn.tree import DecisionTreeClassifier\n",
    "from sklearn.linear_model import LinearRegression, LogisticRegression\n",
    "from sklearn.metrics import r2_score, root_mean_squared_error, mean_absolute_error, classification_report, confusion_matrix\n",
    "from sklearn.model_selection import train_test_split, TimeSeriesSplit"
   ]
  },
  {
   "cell_type": "code",
   "execution_count": 2,
   "id": "6f435e87",
   "metadata": {},
   "outputs": [],
   "source": [
    "df = pd.read_csv (r\"C:\\Users\\fangyi\\bootcamp_fangyi_jiang\\project\\data\\Processed\\data_features.csv\")"
   ]
  },
  {
   "cell_type": "code",
   "execution_count": 3,
   "id": "c92e83cf",
   "metadata": {},
   "outputs": [],
   "source": [
    "## Feature Engineering\n",
    "df['return'] = (df['close'] - df['close'].shift(1))/df['close'].shift(1)\n",
    "df['lag_1'] = df['return'].shift(1)\n",
    "df['roll_mean_5'] = df['return'].rolling(5).mean().shift(1)\n",
    "df['momentum'] = df['return'] - df['return'].shift(7)\n",
    "df['y_next_ret'] = df['return'].shift(-1)\n",
    "df['y_up'] = (df['y_next_ret']>0).astype(int)\n",
    "df_feat = df.dropna().copy()"
   ]
  },
  {
   "cell_type": "code",
   "execution_count": 4,
   "id": "1a544c57",
   "metadata": {},
   "outputs": [],
   "source": [
    "## Split\n",
    "cut=int(len(df_feat)*0.8)\n",
    "train, test = df_feat.iloc[:cut], df_feat.iloc[cut:]\n",
    "features=['lag_1','roll_mean_5','momentum'] \n",
    "X_tr, X_te = train[features], test[features]\n",
    "y_tr_reg, y_te_reg = train['y_next_ret'], test['y_next_ret']\n",
    "y_tr_clf, y_te_clf = train['y_up'], test['y_up']"
   ]
  },
  {
   "cell_type": "code",
   "execution_count": 5,
   "id": "3edbcf7e",
   "metadata": {},
   "outputs": [
    {
     "name": "stdout",
     "output_type": "stream",
     "text": [
      "              precision    recall  f1-score   support\n",
      "\n",
      "           0       0.50      0.17      0.25        12\n",
      "           1       0.33      0.71      0.45         7\n",
      "\n",
      "    accuracy                           0.37        19\n",
      "   macro avg       0.42      0.44      0.35        19\n",
      "weighted avg       0.44      0.37      0.33        19\n",
      "\n"
     ]
    },
    {
     "data": {
      "image/png": "[encoded data removed]",
      "text/plain": [
       "<Figure size 640x480 with 2 Axes>"
      ]
     },
     "metadata": {},
     "output_type": "display_data"
    }
   ],
   "source": [
    "## Classification\n",
    "clf = Pipeline([('scaler', StandardScaler()), ('logit', LogisticRegression(max_iter=1000))])\n",
    "clf.fit(X_tr, y_tr_clf)\n",
    "predc = clf.predict(X_te)\n",
    "print(classification_report(y_te_clf, predc))\n",
    "cm = confusion_matrix(y_te_clf, predc)\n",
    "sns.heatmap(cm, annot=True, fmt='d'); plt.title('Confusion Matrix'); plt.show()"
   ]
  },
  {
   "cell_type": "markdown",
   "id": "14a2a380",
   "metadata": {},
   "source": [
    "## Interpretation (Markdown)\n",
    "- What worked: I am doing a regresion analysis based on stock price and time information, it is not going to work well. There is only a 37% accuracy in predicting whether the stock price will go up or down.\n",
    "- Where might assumptions fail: The base assumption that autocorrelation can explain most of stock price movement\n",
    "- How would you extend features or model: I would at least include features like market return and industry specific return."
   ]
  }
 ],
 "metadata": {
  "kernelspec": {
   "display_name": "fe-course",
   "language": "python",
   "name": "python3"
  },
  "language_info": {
   "codemirror_mode": {
    "name": "ipython",
    "version": 3
   },
   "file_extension": ".py",
   "mimetype": "text/x-python",
   "name": "python",
   "nbconvert_exporter": "python",
   "pygments_lexer": "ipython3",
   "version": "3.11.13"
  }
 },
 "nbformat": 4,
 "nbformat_minor": 5
}
