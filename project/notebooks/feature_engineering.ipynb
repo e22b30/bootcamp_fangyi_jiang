{
 "cells": [
  {
   "cell_type": "code",
   "execution_count": 1,
   "id": "a5e62e4a",
   "metadata": {},
   "outputs": [],
   "source": [
    "import pandas as pd\n",
    "import sys\n",
    "import os\n",
    "from dotenv import load_dotenv\n",
    "load_dotenv()\n",
    "DATA_CLEAN = os.getenv(\"CLEAN_DATA\")\n",
    "df = pd.read_csv(DATA_CLEAN)"
   ]
  },
  {
   "cell_type": "code",
   "execution_count": 3,
   "id": "e62f4e52",
   "metadata": {},
   "outputs": [],
   "source": [
    "# daily return, constructing datily return can help us better understand the profits of the stock.\n",
    "\n",
    "df['daily return'] = df['close'].pct_change()\n",
    "\n",
    "# moving average, constructing moving average can help us smooth noisy data and help identify trends\n",
    "\n",
    "df['moving average'] = df['close'].rolling(window = 7).mean()\n",
    "\n",
    "df.to_csv('../data/processed/data_features.csv', index=False)"
   ]
  }
 ],
 "metadata": {
  "kernelspec": {
   "display_name": "fe-course",
   "language": "python",
   "name": "python3"
  },
  "language_info": {
   "codemirror_mode": {
    "name": "ipython",
    "version": 3
   },
   "file_extension": ".py",
   "mimetype": "text/x-python",
   "name": "python",
   "nbconvert_exporter": "python",
   "pygments_lexer": "ipython3",
   "version": "3.11.13"
  }
 },
 "nbformat": 4,
 "nbformat_minor": 5
}
